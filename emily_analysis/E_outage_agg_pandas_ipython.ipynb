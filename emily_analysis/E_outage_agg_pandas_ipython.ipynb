{
 "cells": [
  {
   "cell_type": "code",
   "execution_count": 10,
   "metadata": {},
   "outputs": [],
   "source": [
    "import pandas as pd \n",
    "import seaborn as sns \n",
    "import matplotlib.pyplot as plt\n",
    "import numpy as np\n",
    "import math\n",
    "import pyproj\n",
    "import descartes\n",
    "from descartes import PolygonPatch\n",
    "import geopandas as gpd \n",
    "import shapely.geometry as geometry\n",
    "import shapefile \n",
    "from functools import partial \n",
    "import shapely.ops as ops \n",
    "import fiona"
   ]
  },
  {
   "cell_type": "code",
   "execution_count": 11,
   "metadata": {},
   "outputs": [],
   "source": [
    "pw = pd.read_parquet('part-00000-34c001ad-b3a5-4bab-abe9-e3d1be553f75-c000.gz.parquet')"
   ]
  },
  {
   "cell_type": "code",
   "execution_count": 12,
   "metadata": {
    "scrolled": false
   },
   "outputs": [],
   "source": [
    "pw = pw.rename(columns={'a_location.location_latitude' : 'latitude', 'a_location.location_longitude' : 'longitude'})\n",
    "pw.head()"
   ]
  },
  {
   "cell_type": "code",
   "execution_count": 13,
   "metadata": {},
   "outputs": [],
   "source": [
    "locations = pw[['outage_time', 'latitude', 'longitude', 'cluster_size']]\n",
    "area_locations = locations[locations['cluster_size'] > 3]\n",
    "cluster_size_is_2 = locations[locations['cluster_size'] == 2]\n",
    "location_838 = locations[locations['outage_time'] == 1531651143]\n",
    "location_0 = locations[locations['outage_time'] == 1530813017]"
   ]
  },
  {
   "cell_type": "code",
   "execution_count": 14,
   "metadata": {},
   "outputs": [],
   "source": [
    "street_map = gpd.read_file('/Users/emilypaszkiewicz17/Desktop/research/map_w_coordinates/GHA-4_admin_SHP/GHA-4.shp')\n",
    "fig,ax = plt.subplots(figsize = (15,15))\n",
    "street_map.plot(ax=ax)"
   ]
  },
  {
   "cell_type": "code",
   "execution_count": 15,
   "metadata": {
    "scrolled": true
   },
   "outputs": [],
   "source": [
    "plt.scatter(location_838['longitude'], location_838['latitude'])"
   ]
  },
  {
   "cell_type": "code",
   "execution_count": 9,
   "metadata": {},
   "outputs": [],
   "source": [
    "location_838"
   ]
  },
  {
   "cell_type": "code",
   "execution_count": 9,
   "metadata": {
    "scrolled": true
   },
   "outputs": [],
   "source": [
    "#Create points out of the lat and long data \n",
    "crs = {'init', 'epsg:4326'}\n",
    "geom = [geometry.Point(xy) for xy in zip(location_838['longitude'], location_838['latitude'])]\n",
    "geo_location_838 = gpd.GeoDataFrame(location_838, crs=crs, geometry=geom)\n",
    "geo_location_838.to_csv(path_or_buf='/Users/emilypaszkiewicz17/Desktop/research/geo_location_838.csv')\n",
    "geo_location_838.head()\n"
   ]
  },
  {
   "cell_type": "code",
   "execution_count": 10,
   "metadata": {
    "scrolled": true
   },
   "outputs": [],
   "source": [
    "fig,ax = plt.subplots(figsize = (20,20))\n",
    "street_map.plot(ax=ax)\n",
    "geo_location_838['geometry'].plot(ax=ax, color='red')\n",
    "plt.title('Outages at outage time 1531651143')\n",
    "#generated using https://towardsdatascience.com/geopandas-101-plot-any-data-with-a-latitude-and-longitude-on-a-map-98e01944b972"
   ]
  },
  {
   "cell_type": "code",
   "execution_count": 11,
   "metadata": {},
   "outputs": [],
   "source": [
    "crs = {'init', 'epsg:4326'}\n",
    "geom = [geometry.Point(xy) for xy in zip(location_0['longitude'], location_0['latitude'])]\n",
    "geo_location_0 = gpd.GeoDataFrame(location_0, crs=crs, geometry=geom)\n",
    "fig,ax = plt.subplots(figsize = (20,20))\n",
    "street_map.plot(ax=ax)\n",
    "geo_location_0['geometry'].plot(ax=ax, color='red')\n",
    "plt.title('Outages at outage time 1530813017')"
   ]
  },
  {
   "cell_type": "code",
   "execution_count": 12,
   "metadata": {},
   "outputs": [],
   "source": [
    "#concave_area takes in two lists or arrays and outputs the concave area of the polygon in Euclidian distance using the crossproduct  \n",
    "def concave_area(x,y):\n",
    "    return 0.5*np.abs(np.dot(x,np.roll(y,1))-np.dot(y,np.roll(x,1)))"
   ]
  },
  {
   "cell_type": "code",
   "execution_count": 14,
   "metadata": {
    "scrolled": false
   },
   "outputs": [],
   "source": [
    "#convert the area_locations dataframe to a dataframe where the locations are listed and indexed by the outage_time \n",
    "list_locations = area_locations.groupby('outage_time')['latitude'].apply(lambda x: x.to_list()).reset_index()\n",
    "list_locations['longitude'] = area_locations.groupby('outage_time')['longitude'].apply(lambda x: x.to_list()).values\n",
    "list_locations['cluster_size'] = area_locations.groupby('outage_time')['cluster_size'].first().values\n",
    "list_locations = list_locations.set_index('outage_time')\n",
    "#now apply the area function to the latitudes and longitudes\n",
    "list_locations['concave_area'] = (np.vectorize(concave_area)(list_locations['longitude'], list_locations['latitude']))\n",
    "list_locations.head()"
   ]
  },
  {
   "cell_type": "code",
   "execution_count": 15,
   "metadata": {
    "scrolled": true
   },
   "outputs": [],
   "source": [
    "#Creating a Polygon class for each of the clusters \n",
    "check = []\n",
    "for i in range(len(list_locations)):\n",
    "    a = list_locations.iloc[i, :].values[0]\n",
    "    b = list_locations.iloc[i, :].values[1]\n",
    "    check.append(list(zip(a, b)))\n",
    "list_locations['poly'] = check\n",
    "poly = [geometry.Polygon(x, holes=None) for x in list_locations['poly']]\n",
    "geo_location_poly = gpd.GeoDataFrame(list_locations, crs=crs, geometry=poly)\n",
    "\n",
    "geo_location_poly['convex_area'] = geo_location_poly.convex_hull.area\n",
    "geo_location_poly.head()"
   ]
  },
  {
   "cell_type": "code",
   "execution_count": 16,
   "metadata": {
    "scrolled": true
   },
   "outputs": [],
   "source": [
    "#calculating area with the polygon class \n",
    "#ops.transform is transforming geom by first argument (aka everything following partial). Partial creates a partial object \n",
    "#https://gis.stackexchange.com/questions/127607/area-in-km-from-polygon-of-coordinates \n",
    "\n",
    "def convex_area(a_geom): \n",
    "    return ops.transform(partial(\n",
    "        pyproj.transform, \n",
    "        pyproj.Proj(init='EPSG:4326'), \n",
    "        pyproj.Proj(proj='aea', lat1=a_geom.bounds[0], long1=a_geom.bounds[1], lat2=a_geom.bounds[2], long2=a_geom.bounds[3])), a_geom).convex_hull.area\n",
    "\n",
    "geo_location_poly['convex_area_m^2'] = (np.vectorize(convex_area)(geo_location_poly['geometry']))\n",
    "geo_location_poly.head()"
   ]
  },
  {
   "cell_type": "code",
   "execution_count": 18,
   "metadata": {},
   "outputs": [],
   "source": [
    "#now let's do the same thing for coordinates, but projected onto EPSG:32630 \n",
    "\n",
    "wgs84 = pyproj.Proj('+init=EPSG:4326')\n",
    "wgs84_tz30 = pyproj.Proj('+init=EPSG:32630')\n",
    "# ghana_poly = pyproj.transform(wgs84, wgs84_tz30)\n",
    "\n",
    "def convex_area_ghana(a_geom): \n",
    "    return ops.transform(partial(pyproj.transform, wgs84, wgs84_tz30), a_geom).convex_hull.area\n",
    "\n",
    "geo_location_poly['ghana_area'] = (np.vectorize(convex_area_ghana)(geo_location_poly['geometry']))\n",
    "geo_location_poly.head()"
   ]
  },
  {
   "cell_type": "code",
   "execution_count": 19,
   "metadata": {},
   "outputs": [],
   "source": [
    "#now let's compare the areas computed with this algorithm vs. areas in qGIS \n",
    "#we will examine the areas computed for outage_time 1531651143 \n",
    "#note that these were computed in different projections, however from what I have heard, these projections shouldn't make that much of a difference since ESPG:32630 is near the equator \n",
    "#python areas were computed with Albers Equal Area projection \n",
    "#qgis areas were computed with an EPSG:32630 projection \n",
    "aea_degrees = geo_location_poly[geo_location_poly.index == 1531651143]['convex_area'].values[0]\n",
    "aea_meters = geo_location_poly[geo_location_poly.index == 1531651143]['convex_area_m^2'].values[0]\n",
    "ghana_meters = geo_location_poly[geo_location_poly.index == 1531651143]['ghana_area'].values[0]\n",
    "qgis_ghana_degrees = 0.004044263111149915\n",
    "qgis_ghana_meters = 49546874.7356604\n",
    "degree_squared_dif = abs(aea_degrees - qgis_ghana_degrees)\n",
    "meters_squared_dif = abs(aea_meters - qgis_ghana_meters)\n",
    "ghana_meters_squared_dif = abs(ghana_meters - qgis_ghana_meters)\n",
    "meters_squared_dif, ghana_meters_squared_dif\n"
   ]
  },
  {
   "cell_type": "markdown",
   "metadata": {},
   "source": [
    "Ok we have a little bit of a problem here. The difference in areas between the Albers projection and the EPSG:32630 in qgis is almost 6 times smaller than the difference in areas between the EPSG:32630 projection in python and in qgis!!!\n",
    "So wtf does that even MEAN?? \n",
    "It is possible I implemented the projection incorrectly(although the values are not like crazy off so that's not super likely) or there is some other problem that I can't think of?? WTF do I doooooo\n",
    "Perhaps this article will help: https://all-geo.org/volcan01010/2012/11/change-coordinates-with-pyproj/ "
   ]
  },
  {
   "cell_type": "code",
   "execution_count": 20,
   "metadata": {},
   "outputs": [],
   "source": [
    "#plot the cluster size against the area covered by coordinates (Euclidian distance)\n",
    "#consider plotting on a log scale \n",
    "plt.scatter(list_locations['cluster_size'], list_locations['concave_area'])\n",
    "plt.xlabel('Cluster Size')\n",
    "plt.ylabel('Area Covered by Coordinates (deg)')\n",
    "plt.title('Cluster Size vs. Area Covered by Coordinates (deg)')\n",
    "plt.ylim(0, 0.0025)"
   ]
  },
  {
   "cell_type": "code",
   "execution_count": 21,
   "metadata": {},
   "outputs": [],
   "source": [
    "plt.scatter(list_locations['cluster_size'], (list_locations['convex_area_m^2']/1000000))\n",
    "plt.xlabel('Cluster Size')\n",
    "plt.ylabel('Area Covered by Coordinates (m^2)')\n",
    "plt.title('Cluster Size vs. Area Covered by Coordinates (m^2)')\n"
   ]
  },
  {
   "cell_type": "code",
   "execution_count": 22,
   "metadata": {},
   "outputs": [],
   "source": [
    "def distance(latitude, longitude): \n",
    "    return np.sqrt((longitude[1]-longitude[0])**2 + (latitude[1]-latitude[0])**2)"
   ]
  },
  {
   "cell_type": "code",
   "execution_count": 23,
   "metadata": {},
   "outputs": [],
   "source": [
    "def coordinate_distance(latitude, longitude): \n",
    "    a1 = latitude[0]\n",
    "    a2 = latitude[1]\n",
    "    b1 = longitude[0]\n",
    "    b2 = longitude[1]\n",
    "    rad = 6371 #km \n",
    "    num = np.arccos(np.cos(a1)*np.cos(b1)*np.cos(a2)*np.cos(b2) + np.cos(a1)*np.sin(b1)*np.cos(a2)*np.sin(b2) + np.sin(a1)*np.sin(a2))\n",
    "    denom = 360*2*np.pi*rad\n",
    "    return num/denom \n",
    "# computed in km since rad is the radius of the earth in km\n",
    "# http://mathforum.org/library/drmath/view/51711.html <-- formula used can be found here "
   ]
  },
  {
   "cell_type": "code",
   "execution_count": 24,
   "metadata": {
    "scrolled": true
   },
   "outputs": [],
   "source": [
    "#create a dataframe for points with cluster size 2 \n",
    "two_locations = cluster_size_is_2.groupby('outage_time')['latitude'].apply(lambda x: x.to_list()).reset_index()\n",
    "two_locations['longitude'] = cluster_size_is_2.groupby('outage_time')['longitude'].apply(lambda x: x.to_list()).values\n",
    "two_locations['cluster_size'] = cluster_size_is_2.groupby('outage_time')['cluster_size'].first().values\n",
    "two_locations = two_locations.set_index('outage_time')\n",
    "two_locations['distance'] = (np.vectorize(distance)(two_locations['latitude'], two_locations['longitude']))\n",
    "two_locations['coordinate_distance (km)'] = (np.vectorize(coordinate_distance)(two_locations['latitude'], two_locations['longitude']))\n",
    "two_locations.head()"
   ]
  },
  {
   "cell_type": "code",
   "execution_count": 25,
   "metadata": {
    "scrolled": true
   },
   "outputs": [],
   "source": [
    "plt.hist(two_locations['coordinate_distance (km)'], bins=20)\n",
    "plt.title('Distance Between Two Clusters During a Power Outage (km)')\n",
    "plt.xlabel('')"
   ]
  },
  {
   "cell_type": "code",
   "execution_count": 26,
   "metadata": {
    "scrolled": true
   },
   "outputs": [],
   "source": [
    "plt.hist(two_locations['distance'], bins=20)\n",
    "plt.title('Distance Between Two Clusters During a Power Outage (deg)')"
   ]
  },
  {
   "cell_type": "code",
   "execution_count": null,
   "metadata": {},
   "outputs": [],
   "source": []
  },
  {
   "cell_type": "code",
   "execution_count": null,
   "metadata": {},
   "outputs": [],
   "source": []
  },
  {
   "cell_type": "code",
   "execution_count": null,
   "metadata": {},
   "outputs": [],
   "source": []
  },
  {
   "cell_type": "code",
   "execution_count": null,
   "metadata": {},
   "outputs": [],
   "source": []
  },
  {
   "cell_type": "code",
   "execution_count": null,
   "metadata": {},
   "outputs": [],
   "source": []
  },
  {
   "cell_type": "code",
   "execution_count": null,
   "metadata": {},
   "outputs": [],
   "source": [
    "#let's save this to a csv so that we can use this data in qGIS \n",
    "geo_location_poly.to_csv(path_or_buf='/Users/emilypaszkiewicz17/Desktop/research/geo_location_poly.csv')"
   ]
  },
  {
   "cell_type": "code",
   "execution_count": null,
   "metadata": {},
   "outputs": [],
   "source": [
    "#try implementing code from http://blog.thehumangeo.com/2014/05/12/drawing-boundaries-in-python/\n",
    "#to do so, take one cluster and convert points into a multipoint list. Than run plot_polygon on that list \n",
    "\n",
    "# multi_point = [geometry.MultiPoint(x) for x in list_locations['poly']]\n",
    "# geo_location_multi_point = gpd.GeoDataFrame(list_locations, crs=crs, geometry=multi_point)\n",
    "# geo_location_multi_point['convexed'] = [multi_point[i].convex_hull for i in range(len(multi_point))]\n",
    "# geo_location_multi_point.head() \n",
    "# geo_location_multi_point['convexed'].values[0]\n",
    "\n",
    "\n",
    "def plot_polygon(polygon): \n",
    "    fig = plt.figure(figsize=(5,5))\n",
    "    ax = fig.add_subplot(111)\n",
    "    margin = .3 \n",
    "    x_min, y_min, x_max, y_max = polygon.bounds\n",
    "    ax.set_xlim([x_min-margin, x_max+margin])\n",
    "    ax.set_ylim([y_min-margin, y_max-margin])\n",
    "    patch = PolygonPatch(polygon, fc='#999999',\n",
    "                         ec='#000000', fill=True,\n",
    "                         zorder=-1)\n",
    "    ax.add_patch(patch)\n",
    "    return fig"
   ]
  },
  {
   "cell_type": "code",
   "execution_count": null,
   "metadata": {},
   "outputs": [],
   "source": [
    "#this function is a more expensive version of concave_area \n",
    "\n",
    "#The function area takes in two lists: latitude and longitude and computes the Euclidian area that they cover \n",
    "def area(latitudes, longitudes):\n",
    "    n = len(latitudes)\n",
    "    area = 0.0\n",
    "    for i in range(n):\n",
    "        j = (i+1)%n\n",
    "        area += latitudes[i]*longitudes[j]\n",
    "        area -= latitudes[j]*longitudes[i]\n",
    "    area = abs(area)/2\n",
    "    return area \n",
    "\n"
   ]
  },
  {
   "cell_type": "code",
   "execution_count": null,
   "metadata": {},
   "outputs": [],
   "source": [
    "#this does not work!!! \n",
    "def concave_km_area(lst): \n",
    "    rad = 6371 #km \n",
    "    cos_term = 1\n",
    "    sin_term = 1\n",
    "    cos_and_sin_term = 1\n",
    "    for lat, long in lst: \n",
    "        cos_term = cos_term*np.cos(lat)*np.cos(long)\n",
    "        sin_term = sin_term*np.sin(lat)\n",
    "        cos_and_sin_term = cos_and_sin_term*np.cos(lat)*np.sin(long)\n",
    "    numerator = np.arccos(cos_term + cos_and_sin_term + sin_term)\n",
    "    denominator = 260*2*np.pi*rad\n",
    "    return numerator/denominator \n",
    "\n",
    "concave_km_area(geo_location_poly['poly'].values[0])\n",
    "    \n",
    "    \n",
    "    \n",
    "#     a1 = latitude[0]\n",
    "#     a2 = latitude[1]\n",
    "#     b1 = longitude[0]\n",
    "#     b2 = longitude[1]\n",
    "#     rad = 6371 #km \n",
    "#     num = np.arccos(np.cos(a1)*np.cos(b1)*np.cos(a2)*np.cos(b2) + np.cos(a1)*np.sin(b1)*np.cos(a2)*np.sin(b2) + np.sin(a1)*np.sin(a2))\n",
    "#     denom = 360*2*np.pi*rad\n",
    "#     return num/denom "
   ]
  },
  {
   "cell_type": "code",
   "execution_count": null,
   "metadata": {},
   "outputs": [],
   "source": []
  }
 ],
 "metadata": {
  "kernelspec": {
   "display_name": "Python 3",
   "language": "python",
   "name": "python3"
  },
  "language_info": {
   "codemirror_mode": {
    "name": "ipython",
    "version": 3
   },
   "file_extension": ".py",
   "mimetype": "text/x-python",
   "name": "python",
   "nbconvert_exporter": "python",
   "pygments_lexer": "ipython3",
   "version": "3.6.2"
  }
 },
 "nbformat": 4,
 "nbformat_minor": 2
}