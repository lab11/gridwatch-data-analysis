{
 "cells": [
  {
   "cell_type": "code",
   "execution_count": 1,
   "metadata": {},
   "outputs": [],
   "source": [
    "import pandas as pd \n",
    "import seaborn as sns \n",
    "import matplotlib.pyplot as plt\n",
    "import numpy as np\n",
    "import math\n",
    "import pyproj\n",
    "import descartes\n",
    "from descartes import PolygonPatch\n",
    "import geopandas as gpd \n",
    "import shapely.geometry as geometry\n",
    "import shapefile \n",
    "from functools import partial \n",
    "import shapely.ops as ops \n",
    "import fiona"
   ]
  },
  {
   "cell_type": "code",
   "execution_count": 2,
   "metadata": {},
   "outputs": [],
   "source": [
    "pw = pd.read_parquet('part-00000-e918c4d9-9091-44a0-912f-f9ebdad81161-c000.gz.parquet')\n",
    "pw = pw.rename(columns={'a_location.location_latitude': 'outage_latitude', 'a_location.location_longitude' : 'outage_longitude'}).drop(['outage_location', 'is_powered', 'core_id'], axis=1)\n",
    "street_map = gpd.read_file('/Users/emilypaszkiewicz17/Desktop/research/map_w_coordinates/GHA-4_admin_SHP/GHA-4.shp')"
   ]
  },
  {
   "cell_type": "code",
   "execution_count": 3,
   "metadata": {},
   "outputs": [],
   "source": [
    "print(len(pw))\n",
    "pw.head()"
   ]
  },
  {
   "cell_type": "code",
   "execution_count": 4,
   "metadata": {
    "scrolled": true
   },
   "outputs": [],
   "source": [
    "#let's plot which sensors are powered vs. which sensors are not powered at one specific time frame \n",
    "time0 = pw[pw['time'] == '2018-07-01 12:53:00']\n",
    "plt.scatter(time0['powered_longitude'], time0['powered_latitude'], c='b', label='powered')\n",
    "plt.scatter(time0['outage_longitude'], time0['outage_latitude'], c='r', label='outage')\n",
    "plt.title('Powered Sensors vs Outages 2018-07-01 12:53:00')\n",
    "plt.legend()\n",
    "plt.xlabel('longitude')\n",
    "plt.ylabel('latitude')"
   ]
  },
  {
   "cell_type": "code",
   "execution_count": 5,
   "metadata": {
    "scrolled": false
   },
   "outputs": [],
   "source": [
    "#now let's plot the same thing with a map behind it \n",
    "fig,ax = plt.subplots(figsize = (20,20))\n",
    "street_map.plot(ax=ax)\n",
    "time0 = pw[pw['time'] == '2018-07-01 12:53:00']\n",
    "plt.scatter(time0['powered_longitude'], time0['powered_latitude'], c='y', label='powered')\n",
    "plt.scatter(time0['outage_longitude'], time0['outage_latitude'], c='r', label='outage')\n",
    "plt.title('Powered Sensors vs Outages 2018-07-01 12:53:00')\n",
    "plt.legend()\n",
    "plt.xlabel('longitude')\n",
    "plt.ylabel('latitude')"
   ]
  },
  {
   "cell_type": "code",
   "execution_count": 6,
   "metadata": {
    "scrolled": false
   },
   "outputs": [],
   "source": [
    "#lets try zooming in on the outages\n",
    "plt.scatter(time0['powered_longitude'], time0['powered_latitude'], c='b', label='powered')\n",
    "plt.scatter(time0['outage_longitude'], time0['outage_latitude'], c='r', label='outage')\n",
    "plt.title('Powered Sensors vs Outages 2018-07-01 12:53:00')\n",
    "plt.legend()\n",
    "plt.xlabel('longitude')\n",
    "plt.ylabel('latitude')\n",
    "plt.ylim(5.6, 5.63)\n",
    "plt.xlim(-0.3, -0.24)"
   ]
  },
  {
   "cell_type": "code",
   "execution_count": 7,
   "metadata": {},
   "outputs": [],
   "source": [
    "#let's write a  function that will take in a dataframe, date&time, and bounding coordinates and will plot the powered and outage sensors \n",
    "#this function will assume that the dataframe has a time column called \"time\" and columns of coordinates with one value per entry with the names: 'powered_longitude', 'powered_latitude', 'outage_latitude', 'outage_longitude'\n",
    "def plot_sensor_outages(df, time, ylim=None, xlim=None):\n",
    "    time_frame = df[df['time'] == time]\n",
    "    plt.scatter(time_frame['powered_longitude'], time_frame['powered_latitude'], c='b', label='powered')\n",
    "    plt.scatter(time_frame['outage_longitude'], time_frame['outage_latitude'], c='r', label='outage')\n",
    "    plt.title('Powered Sensors vs Outages: {}'.format(time))\n",
    "    plt.legend()\n",
    "    plt.xlabel('longitude')\n",
    "    plt.ylabel('latitude')\n",
    "    plt.ylim(ylim)\n",
    "    plt.xlim(xlim)\n"
   ]
  },
  {
   "cell_type": "code",
   "execution_count": 8,
   "metadata": {
    "scrolled": true
   },
   "outputs": [],
   "source": [
    "#this removes points that are both powered and outages \n",
    "pw['powered_pair'] = list(zip(pw['powered_longitude'], pw['powered_latitude']))\n",
    "pw['outage_pair'] = list(zip(pw['outage_longitude'], pw['outage_latitude']))\n",
    "pw_no_duplicates = pd.DataFrame(columns=['time', 'powered_longitude', 'powered_latitude', 'outage_latitude',\n",
    "       'outage_longitude', 'powered_pair', 'outage_pair'])\n",
    "pw_times = list(pw['time'].unique())\n",
    "for time in pw_times:\n",
    "    current_time = pw[pw['time'] == time]\n",
    "    unique_outages = list(current_time['outage_pair'].unique())\n",
    "    pw_no_duplicates = pw_no_duplicates.append(current_time[~current_time['powered_pair'].isin(unique_outages)])\n",
    "\n",
    "pw = pw_no_duplicates \n",
    "pw"
   ]
  },
  {
   "cell_type": "code",
   "execution_count": 20,
   "metadata": {
    "scrolled": true
   },
   "outputs": [],
   "source": [
    "time0 = pw[pw['time'] == '2018-07-01 12:53:00']\n",
    "plt.scatter(time0['powered_longitude'], time0['powered_latitude'], c='b', label='powered')\n",
    "plt.scatter(time0['outage_longitude'], time0['outage_latitude'], c='r', label='outage')\n",
    "plt.title('Powered Sensors vs Outages 2018-07-01 12:53:00')\n",
    "plt.legend()\n",
    "plt.xlabel('longitude')\n",
    "plt.ylabel('latitude')"
   ]
  },
  {
   "cell_type": "code",
   "execution_count": 21,
   "metadata": {
    "scrolled": true
   },
   "outputs": [],
   "source": [
    "#the dataframe pw_ta contatins the coordinates for powered and not_powered sensors at every time stamp (rounded to the nearest minute)\n",
    "pw_ta = pw.groupby('time')['powered_longitude'].apply(lambda x: x.to_list()).reset_index()\n",
    "pw_ta['powered_latitude'] = pw.groupby('time')['powered_latitude'].apply(lambda x: x.to_list()).values\n",
    "pw_ta['outage_longitude'] = pw.groupby('time')['outage_longitude'].apply(lambda x: x.to_list()).values\n",
    "pw_ta['outage_latitude'] = pw.groupby('time')['outage_latitude'].apply(lambda x: x.to_list()).values\n",
    "pw_ta.head()"
   ]
  },
  {
   "cell_type": "code",
   "execution_count": 22,
   "metadata": {
    "scrolled": true
   },
   "outputs": [],
   "source": [
    "powered = pw_ta.copy()\n",
    "outage = pw_ta.copy()\n",
    "powered_poly = []\n",
    "outage_poly = []\n",
    "for i in range(len(pw_ta)):\n",
    "    a = pw_ta.iloc[i, :].values[1]\n",
    "    b = pw_ta.iloc[i, :].values[2]\n",
    "    c = pw_ta.iloc[i, :].values[3]\n",
    "    d = pw_ta.iloc[i, :].values[4]\n",
    "    powered_poly.append(list(zip(a, b)))\n",
    "    outage_poly.append(list(zip(c, d)))\n",
    "    \n",
    "def unique_coords(coords):\n",
    "    return pd.Series(coords).unique()\n",
    "\n",
    "powered['powered_poly'] = powered_poly\n",
    "outage['powered_poly'] = powered_poly\n",
    "pw_ta['powered_poly'] = powered_poly\n",
    "outage['outage_poly'] = outage_poly\n",
    "powered['outage_poly'] = outage_poly\n",
    "pw_ta['outage_poly'] = outage_poly\n",
    "crs = {'init', 'epsg:4326'}\n",
    "\n",
    "powered_poly = [geometry.Polygon(x, holes=None) for x in powered['powered_poly']]\n",
    "powered = gpd.GeoDataFrame(powered, crs=crs, geometry=(powered_poly))\n",
    "\n",
    "outage_poly = [geometry.Polygon(x, holes=None) for x in outage['outage_poly']]\n",
    "outage= gpd.GeoDataFrame(outage, crs=crs, geometry=(outage_poly))\n",
    "\n",
    "\n",
    "powered['powered_poly'] = (np.vectorize(unique_coords)(powered['powered_poly']))\n",
    "outage['powered_poly'] = (np.vectorize(unique_coords)(outage['powered_poly']))\n",
    "pw_ta['powered_poly'] = (np.vectorize(unique_coords)(pw_ta['powered_poly']))\n",
    "outage['outage_poly'] = (np.vectorize(unique_coords)(outage['outage_poly']))\n",
    "powered['outage_poly'] = (np.vectorize(unique_coords)(powered['outage_poly']))\n",
    "pw_ta['outage_poly'] = (np.vectorize(unique_coords)(pw_ta['outage_poly']))\n",
    "\n",
    "powered['convex_area_powered'] = powered.convex_hull\n",
    "outage['convex_area_outage'] = outage.convex_hull\n",
    "\n",
    "outage.head()\n"
   ]
  },
  {
   "cell_type": "code",
   "execution_count": 23,
   "metadata": {},
   "outputs": [],
   "source": [
    "def convex_area(a_geom): \n",
    "    return ops.transform(partial(\n",
    "        pyproj.transform, \n",
    "        pyproj.Proj(init='EPSG:4326'), \n",
    "        pyproj.Proj(proj='aea', lat1=a_geom.bounds[0], long1=a_geom.bounds[1], lat2=a_geom.bounds[2], long2=a_geom.bounds[3])), a_geom).convex_hull.area\n",
    "powered['convex_area_powered'] = (np.vectorize(convex_area)(powered['convex_area_powered']))\n",
    "outage['convex_area_outage'] = (np.vectorize(convex_area)(outage['convex_area_outage']))\n",
    "\n",
    "pw_ta.head()"
   ]
  },
  {
   "cell_type": "code",
   "execution_count": 24,
   "metadata": {},
   "outputs": [],
   "source": [
    "outage['convex_area_powered'] = powered['convex_area_powered']\n",
    "powered['convex_area_outage'] = outage['convex_area_outage']\n"
   ]
  },
  {
   "cell_type": "code",
   "execution_count": 25,
   "metadata": {
    "scrolled": true
   },
   "outputs": [],
   "source": [
    "def in_convex_hull(powered_coords, geom):\n",
    "    in_convex_hull = []\n",
    "    for i in powered_coords: \n",
    "        if geom.convex_hull.contains(geometry.Point(i)):\n",
    "            in_convex_hull.append(i)\n",
    "    in_convex_hull = pd.Series(in_convex_hull).unique() \n",
    "    return in_convex_hull\n",
    "        \n",
    "in_convex_hull = [in_convex_hull(outage['powered_poly'].values[i], outage['geometry'].values[i]) for i in range(len(outage))]\n",
    "outage['powered_within_outage'] = in_convex_hull\n",
    "outage.head()\n"
   ]
  },
  {
   "cell_type": "code",
   "execution_count": 26,
   "metadata": {},
   "outputs": [],
   "source": [
    "time8 = outage[outage['time'] == '2018-07-02 09:05:00']\n",
    "time_0 = outage.iloc[0]\n",
    "plt.scatter(time8['powered_longitude'].values[0], time8['powered_latitude'].values[0], c='b', label='powered')\n",
    "plt.scatter(time8['outage_longitude'].values[0], time8['outage_latitude'].values[0], c='r', label='outage')\n",
    "plt.title('Powered Sensors vs Outages 2018-07-01 12:53:00')\n",
    "plt.legend()\n",
    "plt.xlabel('longitude')\n",
    "plt.ylabel('latitude')"
   ]
  },
  {
   "cell_type": "code",
   "execution_count": 27,
   "metadata": {
    "scrolled": true
   },
   "outputs": [],
   "source": [
    "plt.scatter(time8['outage_longitude'].values[0], time8['outage_latitude'].values[0], c='r', label='outage')\n",
    "plt.scatter(*zip(*(time8['powered_within_outage'].values)), c='b', label='powered')\n",
    "plt.title('Powered Sensors vs Outages 2018-07-01 12:53:00')\n",
    "plt.legend()\n",
    "plt.xlabel('longitude')\n",
    "plt.ylabel('latitude')\n",
    "plt.ylim(5.61, 5.67)\n",
    "plt.xlim(-0.32, -0.27)"
   ]
  },
  {
   "cell_type": "code",
   "execution_count": 28,
   "metadata": {},
   "outputs": [],
   "source": [
    "pw_ta = outage"
   ]
  },
  {
   "cell_type": "code",
   "execution_count": 29,
   "metadata": {
    "scrolled": false
   },
   "outputs": [],
   "source": [
    "pw_ta['percent_area_not_powered'] = (pw_ta['convex_area_outage']/(pw_ta['convex_area_outage'] + pw_ta['convex_area_powered']))*100\n",
    "pw_ta.head()"
   ]
  },
  {
   "cell_type": "code",
   "execution_count": 30,
   "metadata": {},
   "outputs": [],
   "source": [
    "#This takes into account all of the data points with more than 1 sensor reporting an outage \n",
    "plt.hist(pw_ta[pw_ta['percent_area_not_powered'] != 0]['percent_area_not_powered'])\n",
    "plt.title('Percentage of Total Area not Powered')\n",
    "plt.xlabel('(Area Not Powered / (Area Not Powered + Area Powered))*100')"
   ]
  },
  {
   "cell_type": "code",
   "execution_count": 31,
   "metadata": {},
   "outputs": [],
   "source": [
    "unique = pw.groupby('time').nunique()\n",
    "unique['outage_proportion'] = unique['outage_longitude']/(unique['outage_longitude']+unique['powered_longitude'])\n",
    "pw_ta['percent_not_powered'] = (unique['outage_proportion'].values)*100\n",
    "pw_ta.head()"
   ]
  },
  {
   "cell_type": "code",
   "execution_count": 33,
   "metadata": {},
   "outputs": [],
   "source": [
    "#plot size of outage vs. % out at within the convex hull \n",
    "#in the convex hull \n",
    "\n",
    "len(pd.Series(pw_ta.loc[:, 'outage_poly'][1]).unique())\n",
    "def outage_size(outage_coords): \n",
    "    return len(pd.Series(outage_coords).unique())\n",
    "\n",
    "pw_ta['outage_size'] = (np.vectorize(outage_size)(pw_ta['outage_poly']))\n",
    "pw_ta['powered_size_within_outage_area'] = (np.vectorize(outage_size)(pw_ta['powered_within_outage']))\n",
    "pw_ta['percent_out_within_outage'] = (pw_ta['powered_size_within_outage_area'] / (pw_ta['powered_size_within_outage_area'] + pw_ta['outage_size']))*100\n",
    "\n",
    "plt.figure(figsize=(10,10))\n",
    "sns.scatterplot(x='outage_size', y='percent_out_within_outage', data=pw_ta)\n",
    "plt.title('Number of Sensors in Outage vs. Percent of Sensors Experiencing Outage Within the Convex Hull of the Outage')\n",
    "plt.xlabel('Number of Sensors in an Outage')\n",
    "plt.ylabel('Percentage of Sensors Powered within Convex Hull')\n",
    "\n",
    "#pick these points out and plot them "
   ]
  },
  {
   "cell_type": "code",
   "execution_count": 34,
   "metadata": {
    "scrolled": true
   },
   "outputs": [],
   "source": [
    "#let's zoom in on some of these values and figure out what the most extreme values represent \n",
    "top_left = pw_ta[pw_ta['percent_out_within_outage'] == max(pw_ta['percent_out_within_outage'])]\n",
    "\n",
    "zero_in_outage = pw_ta[(pw_ta['percent_out_within_outage'] == min(pw_ta['percent_out_within_outage']))]\n",
    "bottom_right = zero_in_outage[zero_in_outage['outage_size'] == max(zero_in_outage['outage_size'])]\n",
    "\n",
    "top_right = pw_ta[(pw_ta['percent_out_within_outage'] > 60) & (pw_ta['percent_out_within_outage'] < 61)]\n"
   ]
  },
  {
   "cell_type": "code",
   "execution_count": 35,
   "metadata": {
    "scrolled": true
   },
   "outputs": [],
   "source": [
    "sns.scatterplot(x=top_left['powered_longitude'].values[0], y=top_left['powered_latitude'].values[0], label='powered')\n",
    "sns.scatterplot(x=top_left['outage_longitude'].values[0], y=top_left['outage_latitude'].values[0], label='outage')\n",
    "plt.title('Top Left Point: Unrelated Concurrent Outages')\n",
    "plt.xlabel('longitude')\n",
    "plt.ylabel('latitude')"
   ]
  },
  {
   "cell_type": "code",
   "execution_count": 36,
   "metadata": {},
   "outputs": [],
   "source": [
    "sns.scatterplot(x=top_right['powered_longitude'].values[0], y=top_right['powered_latitude'].values[0], label='powered')\n",
    "sns.scatterplot(x=top_right['outage_longitude'].values[0], y=top_right['outage_latitude'].values[0], label='outage')\n",
    "plt.title('Top Right Point: Likely More than One Concurrent Outage')\n",
    "plt.xlabel('longitude')\n",
    "plt.ylabel('latitude')"
   ]
  },
  {
   "cell_type": "code",
   "execution_count": 37,
   "metadata": {},
   "outputs": [],
   "source": [
    "sns.scatterplot(x=bottom_right['powered_longitude'].values[0], y=bottom_right['powered_latitude'].values[0], label='powered')\n",
    "sns.scatterplot(x=bottom_right['outage_longitude'].values[0], y=bottom_right['outage_latitude'].values[0], label='outage')\n",
    "plt.title('Bottom Right Point: Likely a Singular Related Outage')\n",
    "plt.xlabel('longitude')\n",
    "plt.ylabel('latitude')"
   ]
  },
  {
   "cell_type": "code",
   "execution_count": 38,
   "metadata": {},
   "outputs": [],
   "source": [
    "#plot a hist of the % out within convex hull at a given time \n",
    "plt.hist(pw_ta['percent_out_within_outage'], bins=40)\n",
    "plt.title('Percentage of Area Powered Within Convex Hull of Outage Sensors for Sensors in July 2018')\n",
    "plt.xlabel('Percent of Sensors Experiencing Outage')"
   ]
  },
  {
   "cell_type": "code",
   "execution_count": 39,
   "metadata": {
    "scrolled": false
   },
   "outputs": [],
   "source": [
    "#plot a hist of the % out within convex hull at a given time and zoom in \n",
    "les_than_20 = pw_ta[pw_ta['percent_out_within_outage'] < 20]\n",
    "\n",
    "plt.hist(les_than_20['percent_out_within_outage'], bins=40)\n",
    "plt.title('Percentage of Area Powered Within Convex Hull of Outage Sensors for Sensors in July 2018')\n",
    "plt.xlabel('Percent of Sensors Experiencing Outage')"
   ]
  },
  {
   "cell_type": "code",
   "execution_count": 40,
   "metadata": {},
   "outputs": [],
   "source": [
    "#let's zoom in on the on time frames that are experiencing less than 3% outages \n",
    "#note that this is bimodal and you can clearly see both low and medium voltage outages \n",
    "less_than_3_percent = pw_ta[pw_ta['percent_not_powered'] < 3]\n",
    "\n",
    "plt.hist(less_than_3_percent['percent_not_powered'], bins=40)\n",
    "plt.title('Percentage of Area not Powered for Sensors in July 2018')\n",
    "plt.xlabel('Percent of Sensors Experiencing Outage')"
   ]
  },
  {
   "cell_type": "code",
   "execution_count": 24,
   "metadata": {},
   "outputs": [],
   "source": [
    "#let's zoom in on the on time frames that are experiencing less than 1% outages \n",
    "less_than_3_percent = pw_ta[pw_ta['percent_not_powered'] < 1]\n",
    "\n",
    "plt.hist(less_than_3_percent['percent_not_powered'])\n",
    "plt.title('Percentage of Area not Powered for Sensors in July 2018')\n",
    "plt.xlabel('Percent of Sensors Experiencing Outage')"
   ]
  },
  {
   "cell_type": "code",
   "execution_count": 25,
   "metadata": {},
   "outputs": [],
   "source": [
    "#plot area out vs % out at a given time \n",
    "\n",
    "plt.scatter(pw_ta['convex_area_outage'], pw_ta['percent_not_powered'])\n",
    "plt.title('Outage Area vs. Percent of Sensors Experiencing Outage')\n",
    "plt.xlabel('Convex Area of Outage')\n",
    "plt.ylabel('Percentage of Sensors Not Powered')"
   ]
  },
  {
   "cell_type": "code",
   "execution_count": 26,
   "metadata": {},
   "outputs": [],
   "source": [
    "#Proportion of outages vs. time for week of 7/21/2017\n",
    "#takes a long time to run \n",
    "#need to figure out how to fix labels on x-axis\n",
    "week3= pw_ta[(pw_ta['time'] > '2018-07-21 00:00:00') & (pw_ta['time'] < '2018-07-28 00:00:00')]\n",
    "plt.scatter(week3['time'], week3['percent_not_powered'])\n",
    "plt.xlabel('time', labelpad=24)\n",
    "plt.ylabel('percentage of sensors that were off')\n",
    "plt.title('Percentage of outages vs. time for week of 7/21/2017')"
   ]
  },
  {
   "cell_type": "code",
   "execution_count": 27,
   "metadata": {},
   "outputs": [],
   "source": [
    "july1 = pw[(pw['time'] >= '2018-07-01 00:00:00') & (pw['time'] <= '2018-07-02 00:00:00') ]\n",
    "plt.scatter(july1['powered_longitude'], july1['powered_latitude'], c='b', label='powered')\n",
    "plt.scatter(july1['outage_longitude'], july1['outage_latitude'], c='r', label='outage')\n",
    "plt.title('Powered Sensors vs Outages: 2018-07-01')\n",
    "plt.legend()\n",
    "plt.xlabel('longitude')\n",
    "plt.ylabel('latitude')"
   ]
  },
  {
   "cell_type": "code",
   "execution_count": 28,
   "metadata": {},
   "outputs": [],
   "source": [
    "#this plot does not take into account the regularity of the outages \n",
    "unique_outage_locations = pw.groupby(['outage_longitude', 'outage_latitude']).nunique()\n",
    "density = unique_outage_locations['time'].reset_index().set_index('time')\n",
    "sns.kdeplot(density['outage_longitude'], density['outage_latitude'], cmap='Reds', shade=True, label='outages')\n",
    "plt.title('Kernel Density Estimation Plot of Outage Locations in July 2018')"
   ]
  },
  {
   "cell_type": "code",
   "execution_count": 29,
   "metadata": {
    "scrolled": true
   },
   "outputs": [],
   "source": [
    "outage_regularity = pw.groupby(['outage_longitude', 'outage_latitude'])['time'].unique().reset_index().reset_index()\n",
    "time_series = outage_regularity.time.apply(pd.Series).reset_index()\n",
    "outage_regularity = outage_regularity.merge(time_series, right_on='index', left_on='index').set_index('index').drop('time', axis=1)\n",
    "outage_regularity = pd.melt(outage_regularity, id_vars=['outage_longitude', 'outage_latitude'], value_name='time').drop('variable', axis=1).dropna()\n",
    "outage_regularity.head()"
   ]
  },
  {
   "cell_type": "code",
   "execution_count": 30,
   "metadata": {},
   "outputs": [],
   "source": [
    "#this plot takes into account the regularity of the outages in July \n",
    "sns.kdeplot(outage_regularity['outage_longitude'], outage_regularity['outage_latitude'], cmap='Reds', shade=True, label='outages')\n",
    "plt.title('Kernel Density Estimation Plot of the Frequency of Outages in July 2018')\n",
    "plt.xlabel('Longitude')\n",
    "plt.ylabel('Latitude')"
   ]
  },
  {
   "cell_type": "code",
   "execution_count": 31,
   "metadata": {},
   "outputs": [],
   "source": [
    "#let's zoom in on the most dense region at the top of the above plot \n",
    "sns.kdeplot(outage_regularity['outage_longitude'], outage_regularity['outage_latitude'], cmap='Reds', shade=True, label='outages')\n",
    "plt.title('Kernel Density Estimation Plot of the Regularity of Outages in July 2018')\n",
    "plt.xlabel('Longitude')\n",
    "plt.ylabel('Latitude')\n",
    "plt.ylim(5.665, 5.685)\n",
    "plt.xlim(-0.295, -0.255)"
   ]
  },
  {
   "cell_type": "code",
   "execution_count": 32,
   "metadata": {},
   "outputs": [],
   "source": [
    "#warning this takes a long time to run and the plot is too wild to derive much meaning from it \n",
    "sns.kdeplot(pw['powered_longitude'], pw['powered_latitude'], cmap='Blues')\n",
    "plt.title('KDE Plot of Powered Sensors in July 2019')\n",
    "plt.xlabel('Longitude')\n",
    "plt.ylabel('Latitude')"
   ]
  },
  {
   "cell_type": "code",
   "execution_count": 33,
   "metadata": {},
   "outputs": [],
   "source": [
    "#let's plot the estimation of an outage at a specific time. Let's say on 2018-07-01 12:53:00\n",
    "sns.kdeplot(time0['powered_longitude'], time0['powered_latitude'], cmap='Blues', label='powered')\n",
    "sns.kdeplot(time0['outage_longitude'].unique(), time0['outage_latitude'].unique(), cmap='Reds', label='outage')\n",
    "plt.title('KDE Plot of Powered Sensors vs. Outages on 2018-07-01 12:53:00')\n",
    "plt.xlabel('Longitude')\n",
    "plt.ylabel('Latitude')\n",
    "plt.legend()"
   ]
  },
  {
   "cell_type": "code",
   "execution_count": 34,
   "metadata": {},
   "outputs": [],
   "source": [
    "#let's plot the estimation of an outage at a specific day. Let's say on July 1 2018\n",
    "#problem: it wont let me call .unique() on the powered sensors because there are multiple with the either the same lat or long coords \n",
    "#solution: try to implement something similar to what you did above for the cool KDE plot \n",
    "#also try to figure out the discrepancy that you see below this plot \n",
    "sns.kdeplot(*zip(*(july1['powered_pair'].unique())), cmap='Blues', label='powered')\n",
    "sns.kdeplot(july1['outage_longitude'].unique(), july1['outage_latitude'].unique(), cmap='Reds', label='outage')\n",
    "plt.title('KDE Plot of Powered Sensors vs. Outages on 2018-07-01')\n",
    "plt.xlabel('Longitude')\n",
    "plt.ylabel('Latitude')\n",
    "plt.legend()"
   ]
  },
  {
   "cell_type": "code",
   "execution_count": null,
   "metadata": {},
   "outputs": [],
   "source": [
    "plt.scatter(*zip(*(july1['powered_pair'].unique())))"
   ]
  },
  {
   "cell_type": "code",
   "execution_count": null,
   "metadata": {},
   "outputs": [],
   "source": [
    "len(july1['powered_longitude'].unique())"
   ]
  },
  {
   "cell_type": "code",
   "execution_count": null,
   "metadata": {},
   "outputs": [],
   "source": [
    "len(july1)"
   ]
  },
  {
   "cell_type": "code",
   "execution_count": null,
   "metadata": {},
   "outputs": [],
   "source": [
    "len(july1['outage_latitude'].unique())"
   ]
  },
  {
   "cell_type": "code",
   "execution_count": null,
   "metadata": {},
   "outputs": [],
   "source": [
    "july1.groupby('time').nunique()"
   ]
  },
  {
   "cell_type": "code",
   "execution_count": null,
   "metadata": {},
   "outputs": [],
   "source": []
  },
  {
   "cell_type": "code",
   "execution_count": null,
   "metadata": {},
   "outputs": [],
   "source": []
  },
  {
   "cell_type": "markdown",
   "metadata": {},
   "source": [
    "Next steps: \n",
    "    1) define a smaller bounding box of lat and long coords and plot within that region \n",
    "    2) figure out some analysis that can be done with pw_ta \n",
    "    3) make sure this is transferable to larger sets of data \n",
    "    4) learn GIS \n",
    "    5) remediate the overplotting phenomenon \n",
    "    6) look into making maps on geopandas "
   ]
  },
  {
   "cell_type": "code",
   "execution_count": null,
   "metadata": {},
   "outputs": [],
   "source": []
  },
  {
   "cell_type": "code",
   "execution_count": null,
   "metadata": {},
   "outputs": [],
   "source": []
  },
  {
   "cell_type": "code",
   "execution_count": null,
   "metadata": {},
   "outputs": [],
   "source": []
  },
  {
   "cell_type": "code",
   "execution_count": null,
   "metadata": {},
   "outputs": [],
   "source": [
    "#my way of manually checking if the point is inside the geometry \n",
    "\n",
    "in_lat = []\n",
    "in_long = []\n",
    "check_inside = []\n",
    "for point in time8['powered_poly'].values[0]:\n",
    "    long = point[0]\n",
    "    lat = point[1]\n",
    "    min_long = time8['geometry'].values[0].bounds[0]\n",
    "    max_long = time8['geometry'].values[0].bounds[2]\n",
    "    min_lat = time8['geometry'].values[0].bounds[1]\n",
    "    max_lat = time8['geometry'].values[0].bounds[3]\n",
    "    if (long < max_long) & (long > min_long): \n",
    "        if (lat < max_lat) & (lat > min_lat): \n",
    "            in_lat= np.append(in_lat, lat)\n",
    "            in_long = np.append(in_long, long)\n",
    "\n",
    "    in_lat = pd.Series(in_lat).unique()\n",
    "    in_long = pd.Series(in_long).unique()\n",
    "\n",
    "check_inside.append(list(zip(in_long, in_lat)))\n",
    "check_inside = check_inside[0]\n",
    "\n",
    "check_inside\n",
    "    \n",
    "#ok down here, we may need to zip together the outage_poly list with the new long/lat pairs \n",
    "#once you have a good 'check_inside' list, you can go ahead and confirm that the new convex hull is the same as the old"
   ]
  },
  {
   "cell_type": "code",
   "execution_count": null,
   "metadata": {},
   "outputs": [],
   "source": []
  }
 ],
 "metadata": {
  "kernelspec": {
   "display_name": "Python 3",
   "language": "python",
   "name": "python3"
  },
  "language_info": {
   "codemirror_mode": {
    "name": "ipython",
    "version": 3
   },
   "file_extension": ".py",
   "mimetype": "text/x-python",
   "name": "python",
   "nbconvert_exporter": "python",
   "pygments_lexer": "ipython3",
   "version": "3.6.2"
  }
 },
 "nbformat": 4,
 "nbformat_minor": 2
}