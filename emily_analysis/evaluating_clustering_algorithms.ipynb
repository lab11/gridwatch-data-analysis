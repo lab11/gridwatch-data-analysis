{
 "cells": [
  {
   "cell_type": "code",
   "execution_count": 7,
   "metadata": {},
   "outputs": [],
   "source": [
    "import pandas as pd \n",
    "import seaborn as sns \n",
    "import matplotlib.pyplot as plt\n",
    "import numpy as np\n",
    "import sklearn\n",
    "import time \n",
    "import datetime\n",
    "from datetime import timezone"
   ]
  },
  {
   "cell_type": "code",
   "execution_count": 2,
   "metadata": {},
   "outputs": [],
   "source": [
    "pw = pd.read_parquet('part-00000-49a36603-9035-47f4-b73e-eae8d28aa10a-c000.gz.parquet')\n",
    "pw.head()\n",
    "outage = pw[pw['is_powered'] == True]\n",
    "outage = outage[['time', 'location_latitude', 'location_longitude']]\n",
    "outage.head()"
   ]
  },
  {
   "cell_type": "code",
   "execution_count": 88,
   "metadata": {
    "scrolled": false
   },
   "outputs": [],
   "source": [
    "jul_1 = outage[outage['time'] < datetime.datetime(2018, 7, 1, 0, 1)]\n",
    "jul_1['time'] = jul_1['time'].apply(lambda x: x.replace(tzinfo=timezone.utc).timestamp())\n",
    "len(jul_1)"
   ]
  },
  {
   "cell_type": "code",
   "execution_count": 89,
   "metadata": {
    "scrolled": true
   },
   "outputs": [],
   "source": [
    "# expanded = pw.join(pd.DataFrame(pw_time['time'].values.tolist(), columns=['year','month', 'day', 'hour', 'min', 'sec', 'sec1', 'sec2', 'sec3'], index=pw_time.index))\n",
    "# expanded = expanded[['powered_longitude', 'powered_latitude', 'outage_longitude', 'outage_latitude', 'year','month', 'day', 'hour', 'min', 'sec']]\n",
    "# expanded"
   ]
  },
  {
   "cell_type": "code",
   "execution_count": 100,
   "metadata": {
    "scrolled": true
   },
   "outputs": [],
   "source": [
    "from sklearn.preprocessing import StandardScaler\n",
    "from sklearn.cluster import DBSCAN\n",
    "from sklearn import metrics \n",
    "\n",
    "pw_cluster = StandardScaler().fit_transform(jul_1)\n",
    "db = DBSCAN(eps=.9, algorithm='ball_tree').fit(pw_cluster)\n",
    "labels = db.labels_"
   ]
  },
  {
   "cell_type": "code",
   "execution_count": 113,
   "metadata": {},
   "outputs": [],
   "source": [
    "n_noise_ = list(labels).count(-1)\n",
    "n_clusters_ = len(set(labels)) - (1 if -1 in labels else 0)\n",
    "n_noise_, n_clusters_ "
   ]
  },
  {
   "cell_type": "code",
   "execution_count": 114,
   "metadata": {},
   "outputs": [],
   "source": [
    "labels"
   ]
  },
  {
   "cell_type": "code",
   "execution_count": 115,
   "metadata": {},
   "outputs": [],
   "source": [
    "print('Estimated number of clusters: %d' % n_clusters_)\n",
    "print('Estimated number of noise points: %d' % n_noise_)\n",
    "# print(\"Homogeneity: %0.3f\" % metrics.homogeneity_score(labels_true, labels))\n",
    "# print(\"Completeness: %0.3f\" % metrics.completeness_score(labels_true, labels))\n",
    "# print(\"V-measure: %0.3f\" % metrics.v_measure_score(labels_true, labels))\n",
    "# print(\"Adjusted Rand Index: %0.3f\"\n",
    "#       % metrics.adjusted_rand_score(labels_true, labels))\n",
    "# print(\"Adjusted Mutual Information: %0.3f\"\n",
    "#       % metrics.adjusted_mutual_info_score(labels_true, labels,\n",
    "#                                            average_method='arithmetic'))\n",
    "print(\"Silhouette Coefficient: %0.3f\"\n",
    "      % metrics.silhouette_score(pw_cluster, labels))"
   ]
  },
  {
   "cell_type": "code",
   "execution_count": 116,
   "metadata": {},
   "outputs": [],
   "source": [
    "#check with raw data of outages and times that they went out and then cluster based on outages. then see which ones seem to be the most reliably clustering \n",
    "jul_1['labels'] = labels\n",
    "jul_1.head()"
   ]
  },
  {
   "cell_type": "code",
   "execution_count": 117,
   "metadata": {},
   "outputs": [],
   "source": [
    "#pw_time[['outage_latitude', 'outage_longitude', 'labels']].groupby(['outage_latitude', 'outage_longitude']).first()"
   ]
  },
  {
   "cell_type": "code",
   "execution_count": 118,
   "metadata": {},
   "outputs": [],
   "source": [
    "jul_1_0 = jul_1[jul_1['labels'] == 0]\n",
    "jul_1_1 = jul_1[jul_1['labels'] == 1]\n",
    "jul_1_2 = jul_1[jul_1['labels'] == 2]\n",
    "jul_1_3 = jul_1[jul_1['labels'] == 3]\n",
    "jul_1_4 = jul_1[jul_1['labels'] == 4]\n",
    "jul_1_unlabeled = jul_1[jul_1['labels'] == -1]"
   ]
  },
  {
   "cell_type": "code",
   "execution_count": 120,
   "metadata": {},
   "outputs": [],
   "source": [
    "# plt.scatter(pw_time['powered_longitude'], pw_time['powered_latitude'], c='b', label='powered')\n",
    "plt.figure(figsize=(10,10))\n",
    "plt.scatter(jul_1_0['location_longitude'], jul_1_0['location_latitude'], c='r', label='cluster 1')\n",
    "plt.scatter(jul_1_1['location_longitude'], jul_1_1['location_latitude'], c='b', label='cluster 2')\n",
    "plt.scatter(jul_1_2['location_longitude'], jul_1_2['location_latitude'], c='g', label='cluster 3')\n",
    "plt.scatter(jul_1_3['location_longitude'], jul_1_3['location_latitude'], c='k', label='cluster 4')\n",
    "plt.scatter(jul_1_4['location_longitude'], jul_1_4['location_latitude'], c='m', label='cluster 5')\n",
    "plt.scatter(jul_1_unlabeled['location_longitude'], jul_1_unlabeled['location_latitude'], c='y', label='noise')\n",
    "plt.title('Clustered Outages on 7/1/18 00:01:00')\n",
    "plt.legend()\n",
    "plt.xlabel('longitude')\n",
    "plt.ylabel('latitude')"
   ]
  },
  {
   "cell_type": "code",
   "execution_count": null,
   "metadata": {},
   "outputs": [],
   "source": [
    "plt.scatter(pw_time['powered_longitude'], pw_time['powered_latitude'], c='b', label='powered')\n",
    "plt.scatter(pw_time['outage_longitude'], pw_time['outage_latitude'], c='r', label='outage')\n",
    "plt.title('Powered Sensors vs Outages')\n",
    "plt.legend()\n",
    "plt.xlabel('longitude')\n",
    "plt.ylabel('latitude')"
   ]
  },
  {
   "cell_type": "code",
   "execution_count": null,
   "metadata": {},
   "outputs": [],
   "source": []
  }
 ],
 "metadata": {
  "kernelspec": {
   "display_name": "Python 3",
   "language": "python",
   "name": "python3"
  },
  "language_info": {
   "codemirror_mode": {
    "name": "ipython",
    "version": 3
   },
   "file_extension": ".py",
   "mimetype": "text/x-python",
   "name": "python",
   "nbconvert_exporter": "python",
   "pygments_lexer": "ipython3",
   "version": "3.6.2"
  }
 },
 "nbformat": 4,
 "nbformat_minor": 2
}