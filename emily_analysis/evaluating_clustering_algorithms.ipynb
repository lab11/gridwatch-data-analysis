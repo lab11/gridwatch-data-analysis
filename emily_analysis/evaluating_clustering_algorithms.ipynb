{
 "cells": [
  {
   "cell_type": "code",
   "execution_count": 1,
   "metadata": {},
   "outputs": [],
   "source": [
    "import pandas as pd \n",
    "import seaborn as sns \n",
    "import matplotlib.pyplot as plt\n",
    "import numpy as np\n",
    "import sklearn\n",
    "import time \n",
    "import datetime\n",
    "from datetime import timezone\n",
    "from sklearn.preprocessing import StandardScaler\n",
    "from sklearn.cluster import DBSCAN\n",
    "from sklearn import metrics \n",
    "import re\n",
    "import pylab\n",
    "from scipy.stats import norm"
   ]
  },
  {
   "cell_type": "code",
   "execution_count": 2,
   "metadata": {},
   "outputs": [],
   "source": [
    "outages = pd.read_parquet('part-00000-3c7aa0ea-41c7-4705-bafc-5662f2051563-c000.gz.parquet')\n",
    "outages.head()"
   ]
  },
  {
   "cell_type": "code",
   "execution_count": 3,
   "metadata": {},
   "outputs": [],
   "source": [
    "out_df = outages[['location_latitude', 'location_longitude', 'outage_time']]\n",
    "day = out_df[out_df['outage_time'] <= min(out_df['outage_time'])+172800]\n",
    "day['zeros'] = 0\n",
    "out_cluster = day[['outage_time', 'zeros']]\n",
    "out_cluster = StandardScaler().fit_transform(out_cluster)\n",
    "#out_cluster = pd.DataFrame(out_cluster, columns=['outage_time', 'location_latitude', 'location_longitude'])\n",
    "#out_cluster['outage_time'] = out_cluster['outage_time']*7\n",
    "#out_cluster['location_longitude'] = out_cluster['location_longitude']*2\n",
    "db = DBSCAN(eps=.04, algorithm='ball_tree').fit(out_cluster)\n",
    "labels = db.labels_\n",
    "n_noise_ = list(labels).count(-1)\n",
    "n_clusters_ = len(set(labels)) - (1 if -1 in labels else 0)\n",
    "n_noise_, n_clusters_ "
   ]
  },
  {
   "cell_type": "code",
   "execution_count": 4,
   "metadata": {},
   "outputs": [],
   "source": [
    "day['labels'] = labels\n",
    "day_0 = day[day['labels'] == 0]\n",
    "day_1 = day[day['labels'] == 1]\n",
    "day_2 = day[day['labels'] == 2]\n",
    "day_3 = day[day['labels'] == 3]\n",
    "day_4 = day[day['labels'] == 4]\n",
    "day_unlabeled = day[day['labels'] == -1]\n",
    "labels"
   ]
  },
  {
   "cell_type": "code",
   "execution_count": 5,
   "metadata": {},
   "outputs": [],
   "source": [
    "plt.figure(figsize=(10,10))\n",
    "plt.scatter(day_unlabeled['location_longitude'], day_unlabeled['location_latitude'], c='y',label='noise')\n",
    "plt.scatter(day_0['location_longitude'], day_0['location_latitude'], label='cluster 0')\n",
    "plt.scatter(day_1['location_longitude'], day_1['location_latitude'], label='cluster 1')\n",
    "plt.scatter(day_2['location_longitude'], day_2['location_latitude'], label='cluster 2')\n",
    "plt.scatter(day_3['location_longitude'], day_3['location_latitude'], label='cluster 3')\n",
    "plt.scatter(day_4['location_longitude'], day_4['location_latitude'], label='cluster 4')\n",
    "plt.title('Clustered Outages from 7/1/18 - 7/2/18')\n",
    "plt.legend()\n",
    "plt.xlabel('longitude')\n",
    "plt.ylabel('latitude')\n",
    "left, right = plt.xlim()\n",
    "top, bottom = plt.ylim()"
   ]
  },
  {
   "cell_type": "code",
   "execution_count": 6,
   "metadata": {},
   "outputs": [],
   "source": [
    "#now let's compare that with all the points in cluster 0\n",
    "time0 = day[day['labels'] == 0]['outage_time'].values[0]\n",
    "for i in day[day['labels'] == 0]['outage_time'].values[1:]: \n",
    "    print((time0 - i))"
   ]
  },
  {
   "cell_type": "code",
   "execution_count": 7,
   "metadata": {},
   "outputs": [],
   "source": [
    "#now let's compare that with all the points in cluster 1\n",
    "time1 = day[day['labels'] == 1]['outage_time'].values[0]\n",
    "for i in day[day['labels'] == 1]['outage_time'].values[1:]: \n",
    "    print((time1 - i))"
   ]
  },
  {
   "cell_type": "code",
   "execution_count": 8,
   "metadata": {},
   "outputs": [],
   "source": [
    "#now let's compare that with all the points in cluster 2\n",
    "time2 = day[day['labels'] == 2]['outage_time'].values[0]\n",
    "for i in day[day['labels'] == 2]['outage_time'].values[1:]: \n",
    "    print((time2 - i))"
   ]
  },
  {
   "cell_type": "code",
   "execution_count": 9,
   "metadata": {},
   "outputs": [],
   "source": [
    "#now let's compare that with all the points in cluster 3\n",
    "time3 = day[day['labels'] == 3]['outage_time'].values[0]\n",
    "for i in day[day['labels'] == 3]['outage_time'].values[1:]: \n",
    "    print((time3 - i))"
   ]
  },
  {
   "cell_type": "code",
   "execution_count": 10,
   "metadata": {
    "scrolled": true
   },
   "outputs": [],
   "source": [
    "noise = day[day['labels'] == -1]\n",
    "count = len(day[day['labels'] == -1]['outage_time'].values[1:])\n",
    "noise_dist = [0]\n",
    "for i in day[day['labels'] == -1]['outage_time'].values[1:]: \n",
    "    noise_dist.append(day[day['labels'] == -1]['outage_time'].values[0] - i)\n",
    "noise['noise_dist'] = noise_dist\n",
    "noise_dist"
   ]
  },
  {
   "cell_type": "code",
   "execution_count": 11,
   "metadata": {},
   "outputs": [],
   "source": [
    "#now let's plot noise points that have very little distance in time \n",
    "ex = noise[noise['noise_dist'] == 105081]\n",
    "plt.scatter(ex['location_longitude'], ex['location_latitude'])\n",
    "plt.xlim((left, right))\n",
    "plt.ylim((top, bottom))"
   ]
  },
  {
   "cell_type": "code",
   "execution_count": 42,
   "metadata": {},
   "outputs": [],
   "source": [
    "db_clusters = day.groupby('labels').mean().drop('zeros', axis=1)\n",
    "db_clusters['location_latitude'] = day.groupby('labels')['location_latitude'].apply(lambda x: x.to_list())\n",
    "db_clusters['location_longitude'] = day.groupby('labels')['location_longitude'].apply(lambda x: x.to_list())\n",
    "db_clusters['outage_times'] = day.groupby('labels')['outage_time'].apply(lambda x: x.to_list())\n",
    "db_clusters['stddev'] = db_clusters['outage_times'].apply(lambda x: np.std(x))\n",
    "db_clusters\n",
    "#now eliminate the first row and try to plot norm.pdf "
   ]
  },
  {
   "cell_type": "code",
   "execution_count": 55,
   "metadata": {},
   "outputs": [],
   "source": [
    "sns.distplot(db_clusters['outage_times'].values[3], label='cluster_2')\n",
    "sns.distplot(db_clusters['outage_times'].values[2], label='cluster_1')\n",
    "sns.distplot(db_clusters['outage_times'].values[1], label='cluster_0')\n",
    "plt.legend()\n",
    "plt.title('DBSCAN cluster distributions')"
   ]
  },
  {
   "cell_type": "code",
   "execution_count": null,
   "metadata": {},
   "outputs": [],
   "source": []
  },
  {
   "cell_type": "code",
   "execution_count": null,
   "metadata": {},
   "outputs": [],
   "source": []
  },
  {
   "cell_type": "code",
   "execution_count": 136,
   "metadata": {
    "scrolled": true
   },
   "outputs": [],
   "source": [
    "spark_outages = pd.read_parquet('part-00000-1a77f616-ace0-482c-9ad1-bdc53a8286bc-c000.gz.parquet')\n",
    "spark_outages.head()\n",
    " "
   ]
  },
  {
   "cell_type": "code",
   "execution_count": 137,
   "metadata": {},
   "outputs": [],
   "source": [
    "#reading outages from the pw_finalized_with_string dataframe from outage_aggregator.py and doing some data cleaning \n",
    "spark_outages = spark_outages[spark_outages['cluster_size'] > 1]\n",
    "spark_day = spark_outages[spark_outages['outage_time'] <= min(out_df['outage_time'])+172800]\n",
    "spark_day['outage_times'] = spark_day['outage_times'].apply(lambda x: re.findall('\\d+', x))\n",
    "spark_day['location'] = spark_day['location'].apply(lambda x: re.findall('\\d.\\d+', x))\n",
    "spark_day_exploded = spark_day.explode('outage_times')\n",
    "spark_day_exploded['outage_times'] = spark_day_exploded['outage_times'].apply(lambda x: int(x))\n",
    "unexploded = spark_day_exploded.groupby('outage_time')['outage_times'].apply(lambda x: x.to_list()).reset_index().sort_values('outage_time')\n",
    "unexploded['location'] = spark_day.sort_values('outage_time')['location'].values"
   ]
  },
  {
   "cell_type": "code",
   "execution_count": 138,
   "metadata": {
    "scrolled": true
   },
   "outputs": [],
   "source": [
    "\n",
    "unexploded"
   ]
  },
  {
   "cell_type": "code",
   "execution_count": 139,
   "metadata": {},
   "outputs": [],
   "source": [
    "#more data cleaning \n",
    "explode_loc = unexploded.explode('location')\n",
    "explode_loc['location'] = explode_loc['location'].apply(lambda x: float(x))\n",
    "lat = explode_loc[explode_loc['location'] > 1]\n",
    "long = explode_loc[explode_loc['location'] < 1]\n",
    "lat['latitude'] = lat['location']\n",
    "long['longitude'] = long['location']*(-1)\n",
    "lat = lat.groupby('outage_time')['latitude'].apply(lambda x: x.to_list()).reset_index().sort_values('outage_time')\n",
    "lat['longitude'] = long.groupby('outage_time')['longitude'].apply(lambda x: x.to_list()).reset_index().sort_values('outage_time')['longitude']\n",
    "lat['cluster_size'] = spark_day.sort_values('outage_time')['cluster_size'].values\n",
    "lat['outage_times_stddev'] = spark_day.sort_values('outage_time')['outage_times_stddev'].values\n",
    "lat['outage_times'] = unexploded.sort_values('outage_time')['outage_times']\n",
    "spark_outages = lat\n",
    "spark_outages"
   ]
  },
  {
   "cell_type": "code",
   "execution_count": 140,
   "metadata": {
    "scrolled": true
   },
   "outputs": [],
   "source": [
    "sns.scatterplot(x='outage_time', y='cluster_size', data=spark_day_exploded)"
   ]
  },
  {
   "cell_type": "code",
   "execution_count": 150,
   "metadata": {},
   "outputs": [],
   "source": [
    "sns.distplot(spark_outages['outage_times'].values[6], label='cluster_6')\n",
    "sns.distplot(spark_outages['outage_times'].values[5], label='cluster_5')\n",
    "sns.distplot(spark_outages['outage_times'].values[4], label='cluster_4')\n",
    "sns.distplot(spark_outages['outage_times'].values[3], label='cluster_3')\n",
    "sns.distplot(spark_outages['outage_times'].values[2], label='cluster_2')\n",
    "sns.distplot(spark_outages['outage_times'].values[1], label='cluster_1')\n",
    "# sns.distplot(unexploded['outage_times'].values[0], label='cluster_0')\n",
    "plt.legend()\n",
    "plt.title('Agglomerative Time Clustering Distributions')\n",
    "plt.xlabel('outage time distribution (sec)')\n",
    "plt.ylabel('relative cluster size')"
   ]
  },
  {
   "cell_type": "code",
   "execution_count": 151,
   "metadata": {},
   "outputs": [],
   "source": [
    "sns.distplot(db_clusters['outage_times'].values[3], label='cluster_2')\n",
    "sns.distplot(db_clusters['outage_times'].values[2], label='cluster_1')\n",
    "sns.distplot(db_clusters['outage_times'].values[1], label='cluster_0')\n",
    "plt.legend()\n",
    "plt.title('DBSCAN cluster distributions')\n",
    "plt.xlabel('outage time distribution (sec)')\n",
    "plt.ylabel('relative cluster size')"
   ]
  },
  {
   "cell_type": "code",
   "execution_count": 157,
   "metadata": {},
   "outputs": [],
   "source": [
    "plt.figure(figsize=(10,10))\n",
    "# plt.scatter(day_unlabeled['location_longitude'], day_unlabeled['location_latitude'], c='y',label='noise')\n",
    "plt.scatter(spark_outages['longitude'].values[0], spark_outages['latitude'].values[0], label='cluster 0')\n",
    "plt.scatter(spark_outages['longitude'].values[1], spark_outages['latitude'].values[1], label='cluster 1')\n",
    "plt.scatter(spark_outages['longitude'].values[2], spark_outages['latitude'].values[2], label='cluster 2')\n",
    "plt.scatter(spark_outages['longitude'].values[3], spark_outages['latitude'].values[3], label='cluster 3')\n",
    "plt.scatter(spark_outages['longitude'].values[4], spark_outages['latitude'].values[4], label='cluster 4')\n",
    "plt.scatter(spark_outages['longitude'].values[5], spark_outages['latitude'].values[5], label='cluster 3')\n",
    "plt.scatter(spark_outages['longitude'].values[6], spark_outages['latitude'].values[6], label='cluster 4')\n",
    "plt.title('Agglomorative Time Clustered Outages from 7/1/18 - 7/2/18')\n",
    "plt.legend()\n",
    "plt.xlabel('longitude')\n",
    "plt.ylabel('latitude')\n",
    "left, right = plt.xlim()\n",
    "top, bottom = plt.ylim()"
   ]
  },
  {
   "cell_type": "code",
   "execution_count": 158,
   "metadata": {},
   "outputs": [],
   "source": [
    "plt.figure(figsize=(10,10))\n",
    "# plt.scatter(day_unlabeled['location_longitude'], day_unlabeled['location_latitude'], c='y',label='noise')\n",
    "plt.scatter(day_0['location_longitude'], day_0['location_latitude'], label='cluster 0')\n",
    "plt.scatter(day_1['location_longitude'], day_1['location_latitude'], label='cluster 1')\n",
    "plt.scatter(day_2['location_longitude'], day_2['location_latitude'], label='cluster 2')\n",
    "#plt.scatter(day_3['location_longitude'], day_3['location_latitude'], label='cluster 3')\n",
    "#plt.scatter(day_4['location_longitude'], day_4['location_latitude'], label='cluster 4')\n",
    "plt.title('DBSCAN Clustered Outages from 7/1/18 - 7/2/18')\n",
    "plt.legend()\n",
    "plt.xlabel('longitude')\n",
    "plt.ylabel('latitude')\n",
    "plt.xlim((left, right))\n",
    "plt.ylim((top, bottom))"
   ]
  },
  {
   "cell_type": "code",
   "execution_count": null,
   "metadata": {},
   "outputs": [],
   "source": []
  },
  {
   "cell_type": "code",
   "execution_count": null,
   "metadata": {},
   "outputs": [],
   "source": []
  },
  {
   "cell_type": "code",
   "execution_count": null,
   "metadata": {},
   "outputs": [],
   "source": []
  },
  {
   "cell_type": "code",
   "execution_count": null,
   "metadata": {},
   "outputs": [],
   "source": []
  },
  {
   "cell_type": "code",
   "execution_count": null,
   "metadata": {},
   "outputs": [],
   "source": []
  },
  {
   "cell_type": "code",
   "execution_count": 221,
   "metadata": {},
   "outputs": [],
   "source": [
    "#using DBSCAN only with time \n",
    "out_df = outages[['outage_time', 'location_latitude', 'location_longitude']]\n",
    "day = out_df[out_df['outage_time'] <= min(out_df['outage_time'])+172800]\n",
    "day['zeros'] = 0\n",
    "out_cluster = StandardScaler().fit_transform(day[['outage_time', 'zeros']])\n",
    "db = DBSCAN(eps=.1, algorithm='ball_tree').fit(out_cluster)\n",
    "labels = db.labels_\n",
    "n_noise_ = list(labels).count(-1)\n",
    "n_clusters_ = len(set(labels)) - (1 if -1 in labels else 0)\n",
    "n_noise_, n_clusters_ "
   ]
  },
  {
   "cell_type": "code",
   "execution_count": 223,
   "metadata": {
    "scrolled": true
   },
   "outputs": [],
   "source": [
    "day['labels'] = labels\n",
    "day_0 = day[day['labels'] == 0]\n",
    "day_1 = day[day['labels'] == 1]\n",
    "day_2 = day[day['labels'] == 2]\n",
    "day_3 = day[day['labels'] == 3]\n",
    "day_4 = day[day['labels'] == 4]\n",
    "day_unlabeled = day[day['labels'] == -1]\n",
    "labels"
   ]
  },
  {
   "cell_type": "code",
   "execution_count": 224,
   "metadata": {},
   "outputs": [],
   "source": [
    "plt.figure(figsize=(10,10))\n",
    "plt.scatter(day_unlabeled['location_longitude'], day_unlabeled['location_latitude'], c='y',label='noise')\n",
    "plt.scatter(day_0['location_longitude'], day_0['location_latitude'], label='cluster 0')\n",
    "plt.scatter(day_1['location_longitude'], day_1['location_latitude'], label='cluster 1')\n",
    "plt.scatter(day_2['location_longitude'], day_2['location_latitude'], label='cluster 2')\n",
    "plt.scatter(day_3['location_longitude'], day_3['location_latitude'], label='cluster 3')\n",
    "plt.scatter(day_4['location_longitude'], day_4['location_latitude'], label='cluster 4')\n",
    "plt.title('Clustered Outages from 7/1/18 - 7/2/18')\n",
    "plt.legend()\n",
    "plt.xlabel('longitude')\n",
    "plt.ylabel('latitude')"
   ]
  },
  {
   "cell_type": "code",
   "execution_count": 225,
   "metadata": {},
   "outputs": [],
   "source": [
    "#now let's compare that with all the points in cluster 0\n",
    "time0 = day[day['labels'] == 0]['outage_time'].values[0]\n",
    "for i in day[day['labels'] == 0]['outage_time'].values[1:]: \n",
    "    print((time0 - i))\n",
    "time0"
   ]
  },
  {
   "cell_type": "code",
   "execution_count": 226,
   "metadata": {},
   "outputs": [],
   "source": [
    "#now let's compare that with all the points in cluster 1\n",
    "time1 = day[day['labels'] == 1]['outage_time'].values[0]\n",
    "for i in day[day['labels'] == 1]['outage_time'].values[1:]: \n",
    "    print((time1 - i))\n",
    "time1"
   ]
  },
  {
   "cell_type": "code",
   "execution_count": 227,
   "metadata": {},
   "outputs": [],
   "source": [
    "#now let's compare that with all the points in cluster 2\n",
    "time2 = day[day['labels'] == 2]['outage_time'].values[0]\n",
    "for i in day[day['labels'] == 2]['outage_time'].values[1:]: \n",
    "    print((time2 - i))\n",
    "time2"
   ]
  },
  {
   "cell_type": "code",
   "execution_count": null,
   "metadata": {},
   "outputs": [],
   "source": []
  },
  {
   "cell_type": "code",
   "execution_count": null,
   "metadata": {},
   "outputs": [],
   "source": []
  },
  {
   "cell_type": "code",
   "execution_count": null,
   "metadata": {},
   "outputs": [],
   "source": []
  },
  {
   "cell_type": "code",
   "execution_count": null,
   "metadata": {},
   "outputs": [],
   "source": []
  },
  {
   "cell_type": "code",
   "execution_count": null,
   "metadata": {},
   "outputs": [],
   "source": []
  },
  {
   "cell_type": "code",
   "execution_count": 2,
   "metadata": {
    "scrolled": true
   },
   "outputs": [],
   "source": [
    "pw = pd.read_parquet('part-00000-49a36603-9035-47f4-b73e-eae8d28aa10a-c000.gz.parquet')\n",
    "pw.head()\n",
    "outage = pw[pw['is_powered'] == True]\n",
    "outage = outage[['time', 'location_latitude', 'location_longitude']]\n",
    "outage.head()"
   ]
  },
  {
   "cell_type": "code",
   "execution_count": 3,
   "metadata": {
    "scrolled": false
   },
   "outputs": [],
   "source": [
    "jul_1 = outage[outage['time'] < datetime.datetime(2018, 7, 1, 0, 2)]\n",
    "jul_1['time'] = jul_1['time'].apply(lambda x: x.replace(tzinfo=timezone.utc).timestamp())\n",
    "len(jul_1)"
   ]
  },
  {
   "cell_type": "code",
   "execution_count": 4,
   "metadata": {
    "scrolled": true
   },
   "outputs": [],
   "source": [
    "# expanded = pw.join(pd.DataFrame(pw_time['time'].values.tolist(), columns=['year','month', 'day', 'hour', 'min', 'sec', 'sec1', 'sec2', 'sec3'], index=pw_time.index))\n",
    "# expanded = expanded[['powered_longitude', 'powered_latitude', 'outage_longitude', 'outage_latitude', 'year','month', 'day', 'hour', 'min', 'sec']]\n",
    "# expanded"
   ]
  },
  {
   "cell_type": "code",
   "execution_count": 16,
   "metadata": {
    "scrolled": true
   },
   "outputs": [],
   "source": [
    "pw_cluster = StandardScaler().fit_transform(jul_1)\n",
    "db = DBSCAN(eps=.65, algorithm='ball_tree').fit(pw_cluster)\n",
    "labels = db.labels_\n",
    "n_noise_ = list(labels).count(-1)\n",
    "n_clusters_ = len(set(labels)) - (1 if -1 in labels else 0)\n",
    "n_noise_, n_clusters_ \n"
   ]
  },
  {
   "cell_type": "code",
   "execution_count": 17,
   "metadata": {},
   "outputs": [],
   "source": [
    "labels"
   ]
  },
  {
   "cell_type": "code",
   "execution_count": 18,
   "metadata": {},
   "outputs": [],
   "source": [
    "print('Estimated number of clusters: %d' % n_clusters_)\n",
    "print('Estimated number of noise points: %d' % n_noise_)\n",
    "# print(\"Homogeneity: %0.3f\" % metrics.homogeneity_score(labels_true, labels))\n",
    "# print(\"Completeness: %0.3f\" % metrics.completeness_score(labels_true, labels))\n",
    "# print(\"V-measure: %0.3f\" % metrics.v_measure_score(labels_true, labels))\n",
    "# print(\"Adjusted Rand Index: %0.3f\"\n",
    "#       % metrics.adjusted_rand_score(labels_true, labels))\n",
    "# print(\"Adjusted Mutual Information: %0.3f\"\n",
    "#       % metrics.adjusted_mutual_info_score(labels_true, labels,\n",
    "#                                            average_method='arithmetic'))\n",
    "print(\"Silhouette Coefficient: %0.3f\"\n",
    "      % metrics.silhouette_score(pw_cluster, labels))"
   ]
  },
  {
   "cell_type": "code",
   "execution_count": 19,
   "metadata": {},
   "outputs": [],
   "source": [
    "#check with raw data of outages and times that they went out and then cluster based on outages. then see which ones seem to be the most reliably clustering \n",
    "jul_1['labels'] = labels\n",
    "jul_1.head()"
   ]
  },
  {
   "cell_type": "code",
   "execution_count": 20,
   "metadata": {},
   "outputs": [],
   "source": [
    "jul_1_0 = jul_1[jul_1['labels'] == 0]\n",
    "jul_1_1 = jul_1[jul_1['labels'] == 1]\n",
    "jul_1_2 = jul_1[jul_1['labels'] == 2]\n",
    "jul_1_3 = jul_1[jul_1['labels'] == 3]\n",
    "jul_1_4 = jul_1[jul_1['labels'] == 4]\n",
    "jul_1_5 = jul_1[jul_1['labels'] == 5]\n",
    "jul_1_6 = jul_1[jul_1['labels'] == 6]\n",
    "jul_1_7 = jul_1[jul_1['labels'] == 7]\n",
    "jul_1_8 = jul_1[jul_1['labels'] == 8]\n",
    "jul_1_9 = jul_1[jul_1['labels'] == 9]\n",
    "jul_1_unlabeled = jul_1[jul_1['labels'] == -1]"
   ]
  },
  {
   "cell_type": "code",
   "execution_count": 21,
   "metadata": {},
   "outputs": [],
   "source": [
    "# plt.scatter(pw_time['powered_longitude'], pw_time['powered_latitude'], c='b', label='powered')\n",
    "plt.figure(figsize=(10,10))\n",
    "plt.scatter(jul_1_unlabeled['location_longitude'], jul_1_unlabeled['location_latitude'], c='y',label='noise')\n",
    "plt.scatter(jul_1_0['location_longitude'], jul_1_0['location_latitude'], label='cluster 0')\n",
    "plt.scatter(jul_1_1['location_longitude'], jul_1_1['location_latitude'], label='cluster 1')\n",
    "plt.scatter(jul_1_2['location_longitude'], jul_1_2['location_latitude'], label='cluster 2')\n",
    "plt.scatter(jul_1_3['location_longitude'], jul_1_3['location_latitude'], label='cluster 3')\n",
    "plt.scatter(jul_1_4['location_longitude'], jul_1_4['location_latitude'], label='cluster 4')\n",
    "plt.scatter(jul_1_5['location_longitude'], jul_1_5['location_latitude'], label='cluster 5')\n",
    "plt.scatter(jul_1_6['location_longitude'], jul_1_6['location_latitude'], label='cluster 6')\n",
    "plt.scatter(jul_1_7['location_longitude'], jul_1_7['location_latitude'], label='cluster 7')\n",
    "plt.scatter(jul_1_8['location_longitude'], jul_1_8['location_latitude'], label='cluster 8')\n",
    "plt.scatter(jul_1_9['location_longitude'], jul_1_9['location_latitude'], label='cluster 9')\n",
    "plt.title('Clustered Outages on 7/1/18 00:00:00 - 00:02:00')\n",
    "plt.legend()\n",
    "plt.xlabel('longitude')\n",
    "plt.ylabel('latitude')"
   ]
  },
  {
   "cell_type": "code",
   "execution_count": 22,
   "metadata": {
    "scrolled": true
   },
   "outputs": [],
   "source": [
    "jul_1[jul_1['location_latitude'] > 5.66]['time'].values"
   ]
  },
  {
   "cell_type": "code",
   "execution_count": 146,
   "metadata": {},
   "outputs": [],
   "source": [
    "#to examine a difference in classification, let's zoom in at the data in the top cluster of this plot \n",
    "#print out the distance in time between the points \n",
    "a_time = jul_1[jul_1['location_latitude'] > 5.66]['time'].values[0]\n",
    "for i in jul_1[jul_1['location_latitude'] > 5.66]['time'].values[1:]: \n",
    "    print(abs(a_time - i))"
   ]
  },
  {
   "cell_type": "code",
   "execution_count": 174,
   "metadata": {},
   "outputs": [],
   "source": [
    "#now let's compare that with all the points in cluster 2\n",
    "time1 = jul_1[jul_1['labels'] == 2]['time'].values[0]\n",
    "for i in jul_1[jul_1['labels'] == 2]['time'].values[1:]: \n",
    "    print((time1 - i))"
   ]
  },
  {
   "cell_type": "code",
   "execution_count": 148,
   "metadata": {},
   "outputs": [],
   "source": [
    "#now let's compare that with all the points in cluster 4\n",
    "time4 = jul_1[jul_1['labels'] == 3]['time'].values[0]\n",
    "for i in jul_1[jul_1['labels'] == 3]['time'].values[1:]: \n",
    "    print(abs(time4 - i))"
   ]
  },
  {
   "cell_type": "code",
   "execution_count": 149,
   "metadata": {},
   "outputs": [],
   "source": [
    "#now let's compare that with all the points in cluster 1\n",
    "time0 = jul_1[jul_1['labels'] == 0]['time'].values[0]\n",
    "for i in jul_1[jul_1['labels'] == 0]['time'].values[1:]: \n",
    "    print(abs(time0 - i))"
   ]
  },
  {
   "cell_type": "code",
   "execution_count": 89,
   "metadata": {},
   "outputs": [],
   "source": [
    "b_time = jul_1[jul_1['location_latitude'] < 5.60]['time'].values[0]\n",
    "for i in jul_1[jul_1['location_latitude'] < 5.60]['time'].values[1:]: \n",
    "    print((b_time - i))"
   ]
  },
  {
   "cell_type": "code",
   "execution_count": 13,
   "metadata": {},
   "outputs": [],
   "source": [
    "plt.scatter(pw_time['powered_longitude'], pw_time['powered_latitude'], c='b', label='powered')\n",
    "plt.scatter(pw_time['outage_longitude'], pw_time['outage_latitude'], c='r', label='outage')\n",
    "plt.title('Powered Sensors vs Outages')\n",
    "plt.legend()\n",
    "plt.xlabel('longitude')\n",
    "plt.ylabel('latitude')"
   ]
  },
  {
   "cell_type": "code",
   "execution_count": null,
   "metadata": {},
   "outputs": [],
   "source": []
  }
 ],
 "metadata": {
  "kernelspec": {
   "display_name": "Python 3",
   "language": "python",
   "name": "python3"
  },
  "language_info": {
   "codemirror_mode": {
    "name": "ipython",
    "version": 3
   },
   "file_extension": ".py",
   "mimetype": "text/x-python",
   "name": "python",
   "nbconvert_exporter": "python",
   "pygments_lexer": "ipython3",
   "version": "3.6.2"
  }
 },
 "nbformat": 4,
 "nbformat_minor": 2
}